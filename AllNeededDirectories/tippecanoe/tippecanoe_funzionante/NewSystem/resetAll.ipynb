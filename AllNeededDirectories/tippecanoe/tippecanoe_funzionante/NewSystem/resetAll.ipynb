{
 "cells": [
  {
   "cell_type": "markdown",
   "metadata": {},
   "source": [
    "Script utile per riportare tutto quanto allo stato inziale, elimina quindi tutte le cartelle e file in modo da poter utilizzare tutto quanto con nuovi dati. Prima di lanciare lo script assicurarsi di voler veramente eliminare i dati presenti in quanto questi non saranno recuperabili se non rilanciando gli script precedenti."
   ]
  },
  {
   "cell_type": "code",
   "execution_count": 1,
   "metadata": {},
   "outputs": [
    {
     "name": "stdout",
     "output_type": "stream",
     "text": [
      "Trento\n",
      "Pergine\n",
      "Trento\n",
      "Pergine\n",
      "Trento.geojson\n",
      "Ferrara.geojson\n",
      "Pergine.geojson\n",
      "TrentoNode.geojson\n",
      "PergineNode.geojson\n"
     ]
    },
    {
     "ename": "FileNotFoundError",
     "evalue": "[Errno 2] No such file or directory: 'allNodesGeojson.geojson'",
     "output_type": "error",
     "traceback": [
      "\u001b[0;31m---------------------------------------------------------------------------\u001b[0m",
      "\u001b[0;31mFileNotFoundError\u001b[0m                         Traceback (most recent call last)",
      "\u001b[0;32m/tmp/ipykernel_74165/4270865197.py\u001b[0m in \u001b[0;36m<module>\u001b[0;34m\u001b[0m\n\u001b[1;32m     36\u001b[0m \u001b[0mresetAll\u001b[0m\u001b[0;34m(\u001b[0m\u001b[0mnodeFolderName\u001b[0m\u001b[0;34m)\u001b[0m\u001b[0;34m\u001b[0m\u001b[0;34m\u001b[0m\u001b[0m\n\u001b[1;32m     37\u001b[0m \u001b[0mresetAll\u001b[0m\u001b[0;34m(\u001b[0m\u001b[0mcenterFolderName\u001b[0m\u001b[0;34m)\u001b[0m\u001b[0;34m\u001b[0m\u001b[0;34m\u001b[0m\u001b[0m\n\u001b[0;32m---> 38\u001b[0;31m \u001b[0mos\u001b[0m\u001b[0;34m.\u001b[0m\u001b[0mremove\u001b[0m\u001b[0;34m(\u001b[0m\u001b[0;34m\"allNodesGeojson.geojson\"\u001b[0m\u001b[0;34m)\u001b[0m\u001b[0;34m\u001b[0m\u001b[0;34m\u001b[0m\u001b[0m\n\u001b[0m\u001b[1;32m     39\u001b[0m \u001b[0mos\u001b[0m\u001b[0;34m.\u001b[0m\u001b[0mremove\u001b[0m\u001b[0;34m(\u001b[0m\u001b[0;34m\"nodeLayers.txt\"\u001b[0m\u001b[0;34m)\u001b[0m\u001b[0;34m\u001b[0m\u001b[0;34m\u001b[0m\u001b[0m\n\u001b[1;32m     40\u001b[0m \u001b[0mos\u001b[0m\u001b[0;34m.\u001b[0m\u001b[0mremove\u001b[0m\u001b[0;34m(\u001b[0m\u001b[0;34m\"wayLayers.txt\"\u001b[0m\u001b[0;34m)\u001b[0m\u001b[0;34m\u001b[0m\u001b[0;34m\u001b[0m\u001b[0m\n",
      "\u001b[0;31mFileNotFoundError\u001b[0m: [Errno 2] No such file or directory: 'allNodesGeojson.geojson'"
     ]
    }
   ],
   "source": [
    "#Code that removes all the data inside the folders.\n",
    "import shutil\n",
    "import os\n",
    "\n",
    "def resetAll(folderName):\n",
    "    folder = os.listdir(folderName)\n",
    "    for i in folder:\n",
    "        print(i)\n",
    "        try:\n",
    "            os.remove(folderName + \"/\" + i) #shutil.rmtree(folderName +\"/\"+ i)\n",
    "        except OSError as error:\n",
    "            shutil.rmtree(folderName + \"/\" + i)\n",
    "\n",
    "            \n",
    "def resetAllPbf(folderName):\n",
    "    folder = os.listdir(folderName)\n",
    "    for i in folder:\n",
    "        print(i)\n",
    "        try:\n",
    "            os.remove(folderName + \"/\" + i) #shutil.rmtree(folderName +\"/\"+ i)\n",
    "        except OSError as error:\n",
    "            shutil.rmtree(folderName + \"/\" + i)\n",
    "    os.rmdir(folderName)\n",
    "\n",
    "singleWayFolderName = \"SingleWaysFiles\"\n",
    "singleNodeFolderName = \"SingleNodesFiles\"\n",
    "wayFolderName = \"WayGeojsonCittà\"\n",
    "nodeFolderName = \"NodeGeojsonCittà\"\n",
    "centerFolderName = \"CenterGeojsonCittà\"\n",
    "nodePbfFolderName = \"allNodesPbf\"\n",
    "wayPbfFolderName = \"allWaysPbf\"\n",
    "\n",
    "resetAll(singleWayFolderName)\n",
    "resetAll(singleNodeFolderName)\n",
    "resetAll(wayFolderName)\n",
    "resetAll(nodeFolderName)\n",
    "resetAll(centerFolderName)\n",
    "os.remove(\"allNodesGeojson.geojson\")\n",
    "os.remove(\"nodeLayers.txt\")\n",
    "os.remove(\"wayLayers.txt\")\n",
    "if(os.path.exists(nodePbfFolderName) and os.path.isdir(nodePbfFolderName)):\n",
    "    resetAllPbf(nodePbfFolderName)\n",
    "if(os.path.exists(wayPbfFolderName) and os.path.isdir(wayPbfFolderName)):\n",
    "    resetAllPbf(wayPbfFolderName)"
   ]
  }
 ],
 "metadata": {
  "interpreter": {
   "hash": "916dbcbb3f70747c44a77c7bcd40155683ae19c65e1c03b4aa3499c5328201f1"
  },
  "kernelspec": {
   "display_name": "Python 3.8.10 64-bit",
   "name": "python3"
  },
  "language_info": {
   "codemirror_mode": {
    "name": "ipython",
    "version": 3
   },
   "file_extension": ".py",
   "mimetype": "text/x-python",
   "name": "python",
   "nbconvert_exporter": "python",
   "pygments_lexer": "ipython3",
   "version": "3.8.10"
  },
  "orig_nbformat": 4
 },
 "nbformat": 4,
 "nbformat_minor": 2
}