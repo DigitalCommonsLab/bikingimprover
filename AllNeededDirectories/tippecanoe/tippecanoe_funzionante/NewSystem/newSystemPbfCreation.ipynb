{
 "cells": [
  {
   "cell_type": "markdown",
   "metadata": {},
   "source": [
    "Logica Gestione Cartelle e File:\n",
    "L'iniziale delle città deve avere la lettera maiuscola.\n",
    "- Cartella \"CenterGeojsonCittà\" contiene i file dei punti centrali delle vie in formato geojson. Ognuno dei file contiene TUTTI i punti centrali. Se i punti centrali di una città non sono stati uniti precedentemente allora è necessario unirli in un unico geojson con il comando \"geojson-merge\". Ogni file deve avere il nome della città a cui appartiene\n",
    "- Cartella \"NodeGeojsonCittà\" contiene i file riguardanti i punti d'interesse delle città. Se i nodi di una città non sono già tutti in un unico file allora è necessario spostarli prima nella cartella SingleNodesFiles/\"nomeCittà\"\n",
    "- Cartella \"SingleNodesFiles\" contiene tutte le cartelle contenenti i dati dei nodi singoli della città. Successivamente verranno uniti in un unico geojson e spostati nella cartella NodeGeojsonCittà. I nomi delle cartelle devono corrispondere al nome della città presa in considerazione.\n",
    "- Cartella \"SingleWaysFiles\" contiene tutte le cartelle contenenti i dati delle vie singole della città. Successivamente verranno uniti in un unico geojson e spostati nella cartella WayGeojsonCittà.  I nomi delle cartelle devono corrispondere al nome della città presa in considerazione.\n",
    "- Cartella \"WayGeojsonCittà\" contiene i file riguardanti le vie delle città. Se le vie di una città non sono già tutte in un unico file allora è necessario spostarle prima nella cartella singleWaysFiles/\"nomeCittà\""
   ]
  },
  {
   "cell_type": "markdown",
   "metadata": {},
   "source": [
    "Folder and Files Logic:\n",
    "The first letter of every city needs t be capitalized.\n",
    "- The \"CenterGeojsonCittà\" folder contains all the files regarding the central points in geojson format. Every file contains all the centrail points of a city. If the central points of a city weren't previously merged then it is needed to do so with the command \"geojson-merge\". Every file needs to be called as the associated city.\n",
    "- The \"NodeGeojsonCittà\" folder contains all the files regarding the points of interest of the cities. If The nodes aren't all merged in a single file then it is necessary to move them in the folder SingleNodesFiles/\"cityName\"\n",
    "- The \"SingleNodesFiles\" contains all the folders containing all the data of every single node of a certain city. They will be merged later into a single geojson and will be moves in the folder NodeGeojsonCittà. The name of the folders need to have the name of the associated city.\n",
    "- The \"SingleWaysFiles\" folder contains all the folder containing the data regarding the ways of a certain city. They will later be merged into a single geojson and will be moved in the \"WayGeojsonCittà\" folder. The names of the folders need to have the name of the associated city.\n",
    "- The \"WayGeojsonCittà\" folder contains all the files regarding the ways of the cities. If the ways of a city aren't in a single file already then it is necessary to move them in the singleWaysFiles/\"cityName\" folder first."
   ]
  },
  {
   "cell_type": "code",
   "execution_count": 6,
   "metadata": {},
   "outputs": [],
   "source": [
    "#First of all I merge all the single files inside the folders singleNodesFiles and singleWaysFiles\n",
    "\n",
    "import os\n",
    "\n",
    "\n",
    "def createSingleGeojson(inputFolder,outputFolder,node):\n",
    "    inputFile = os.listdir(inputFolder)\n",
    "    if(node):\n",
    "        for i in inputFile:\n",
    "            cmd = \"geojson-merge \" +  inputFolder + \"/\" + i + \"/*.geojson > \" + outputFolder + i +\"Node.geojson\"\n",
    "            os.system(cmd)\n",
    "    else:\n",
    "        for i in inputFile:\n",
    "            cmd = \"geojson-merge \" +  inputFolder + \"/\" + i + \"/*.geojson > \" + outputFolder + i +\".geojson\"\n",
    "            os.system(cmd)\n",
    "\n",
    "node_path = \"SingleNodesFiles\"\n",
    "way_path = \"SingleWaysFiles\"\n",
    "\n",
    "createSingleGeojson(way_path, \"WayGeojsonCittà/\",False)\n",
    "createSingleGeojson(node_path,\"NodeGeojsonCittà/\",True)"
   ]
  },
  {
   "cell_type": "code",
   "execution_count": 7,
   "metadata": {},
   "outputs": [],
   "source": [
    "#Inside the folder CenterGeojsonCittà I assign to each feature of every single geojson a city field with the name of the city the geometry belongs to\n",
    "import geojson\n",
    "\n",
    "def insertFieldCity(geojsonFileName,path):\n",
    "    fullPath = path + geojsonFileName + \".geojson\"\n",
    "    #print(fullPath)\n",
    "    with open(fullPath, \"r\") as f:\n",
    "        data = geojson.load(f)\n",
    "    for i in range(len(data[\"features\"])):\n",
    "        data[i][\"properties\"][\"city\"] = geojsonFileName\n",
    "    with open(fullPath, \"w\") as f:\n",
    "        geojson.dump(data,f)\n",
    "\n",
    "\n",
    "folderName = \"CenterGeojsonCittà/\"\n",
    "folderToCycle = os.listdir(folderName)\n",
    "for i in folderToCycle:\n",
    "    fileName = i.split('.',1)[0]\n",
    "    insertFieldCity(fileName,folderName)"
   ]
  },
  {
   "cell_type": "code",
   "execution_count": 9,
   "metadata": {},
   "outputs": [
    {
     "name": "stdout",
     "output_type": "stream",
     "text": [
      "TrentoCenter\n"
     ]
    }
   ],
   "source": [
    "#Create a single geojson with the name \"allCenterPoints\" for the files inside of the directory CenterGeojsonCittà\n",
    "folderName = \"CenterGeojsonCittà/\"\n",
    "folderToCycle = os.listdir(folderName)\n",
    "for i in folderToCycle:\n",
    "    fileName = i.split('.',1)[0]\n",
    "    fileName = fileName + \"Center\"\n",
    "    print(fileName)\n",
    "    os.rename(folderName + i,folderName + fileName + \".geojson\")"
   ]
  },
  {
   "cell_type": "code",
   "execution_count": 10,
   "metadata": {},
   "outputs": [
    {
     "data": {
      "text/plain": [
       "0"
      ]
     },
     "execution_count": 10,
     "metadata": {},
     "output_type": "execute_result"
    }
   ],
   "source": [
    "#I create a single geojson, useful to make a single call to verify which points to show. This feature can be removed from the web-site if wanted.\n",
    "cmd = \"geojson-merge CenterGeojsonCittà/*.geojson > CenterGeojsonCittà/allCenterPoints.geojson\"\n",
    "os.system(cmd)"
   ]
  },
  {
   "cell_type": "code",
   "execution_count": 5,
   "metadata": {},
   "outputs": [
    {
     "data": {
      "text/plain": [
       "0"
      ]
     },
     "execution_count": 5,
     "metadata": {},
     "output_type": "execute_result"
    }
   ],
   "source": [
    "#Create a single geojson with the name \"allNodesGeojson\" that holds all the nodes in a single geojson\n",
    "#It is needed in case I want to show only the nodes inside a certain polygon\n",
    "cmd = \"geojson-merge NodeGeojsonCittà/*.geojson > allNodesGeojson.geojson\"\n",
    "os.system(cmd)"
   ]
  },
  {
   "cell_type": "code",
   "execution_count": 6,
   "metadata": {},
   "outputs": [
    {
     "name": "stderr",
     "output_type": "stream",
     "text": [
      "For layer 0, using name \"Ferrara\"\n",
      "For layer 1, using name \"Pergine\"\n",
      "For layer 2, using name \"Trento\"\n",
      "Warning: Can't represent non-numeric feature ID \"0\"\n",
      "18373 features, 1311670 bytes of geometry, 111264 bytes of separate metadata, 716193 bytes of string pool\n",
      "tile 6/33/22 size is 660130 with detail 12, >500000    \n",
      "Going to try keeping the sparsest 68.17% of the features to make it fit\n",
      "tile 6/33/22 size is 585409 with detail 12, >500000    \n",
      "Going to try keeping the sparsest 52.40% of the features to make it fit\n",
      "tile 6/33/22 size is 507841 with detail 12, >500000    \n",
      "Going to try keeping the sparsest 46.43% of the features to make it fit\n",
      "tile 7/67/45 size is 815548 with detail 12, >500000    \n",
      "Going to try keeping the sparsest 55.18% of the features to make it fit\n",
      "tile 7/67/45 size is 587264 with detail 12, >500000    \n",
      "Going to try keeping the sparsest 42.28% of the features to make it fit\n",
      "tile 8/135/90 size is 681399 with detail 12, >500000    \n",
      "Going to try keeping the sparsest 66.04% of the features to make it fit\n",
      "tile 8/135/91 size is 789449 with detail 12, >500000    \n",
      "Going to try keeping the sparsest 57.00% of the features to make it fit\n",
      "tile 8/135/90 size is 525818 with detail 12, >500000    \n",
      "Going to try keeping the sparsest 56.52% of the features to make it fit\n",
      "tile 8/135/91 size is 539019 with detail 12, >500000    \n",
      "Going to try keeping the sparsest 47.59% of the features to make it fit\n",
      "tile 9/271/181 size is 629706 with detail 12, >500000    \n",
      "Going to try keeping the sparsest 71.46% of the features to make it fit\n",
      "tile 9/271/182 size is 788645 with detail 12, >500000    \n",
      "Going to try keeping the sparsest 57.06% of the features to make it fit\n",
      "tile 9/271/182 size is 507063 with detail 12, >500000    \n",
      "Going to try keeping the sparsest 50.64% of the features to make it fit\n",
      "tile 10/543/363 size is 546725 with detail 12, >500000    \n",
      "Going to try keeping the sparsest 82.31% of the features to make it fit\n",
      "tile 10/543/364 size is 789290 with detail 12, >500000    \n",
      "Going to try keeping the sparsest 57.01% of the features to make it fit\n",
      "tile 11/1087/728 size is 734863 with detail 12, >500000    \n",
      "Going to try keeping the sparsest 61.24% of the features to make it fit\n",
      "tile 12/2174/1456 size is 535750 with detail 12, >500000    \n",
      "Going to try keeping the sparsest 83.99% of the features to make it fit\n",
      "\n",
      "For layer 0, using name \"PergineNode\"\n",
      "For layer 1, using name \"TrentoNode\"\n",
      "659 features, 22616 bytes of geometry, 8 bytes of separate metadata, 28702 bytes of string pool\n",
      "  99.9%  20/556624/372491  \n"
     ]
    },
    {
     "data": {
      "text/plain": [
       "0"
      ]
     },
     "execution_count": 6,
     "metadata": {},
     "output_type": "execute_result"
    }
   ],
   "source": [
    "#Create a pbf containing all the data of the ways and one containing all the data of the nodes\n",
    "cmd = \"tippecanoe -z20 -e allWaysPbf --drop-densest-as-needed --no-tile-compression WayGeojsonCittà/*.geojson\"\n",
    "os.system(cmd)\n",
    "\n",
    "cmd = \"tippecanoe -z20 -e allNodesPbf --drop-densest-as-needed --no-tile-compression NodeGeojsonCittà/*.geojson\"\n",
    "os.system(cmd)"
   ]
  },
  {
   "cell_type": "code",
   "execution_count": 7,
   "metadata": {},
   "outputs": [],
   "source": [
    "#Create a text file containing all the names of the layer that are going to be used in the webApp\n",
    "def createTextFile(folderName, outputName, node):\n",
    "    txtFile = open(outputName,\"w\")\n",
    "    for i in folderName:\n",
    "        fileName = i.split('.',1)[0]\n",
    "        if(node):\n",
    "            fileName = fileName + \"\"\n",
    "        txtFile.write(fileName + \"\\n\")\n",
    "    txtFile.close()\n",
    "    \n",
    "wayFolderName = \"WayGeojsonCittà/\"\n",
    "wayFolderToCycle = os.listdir(wayFolderName)\n",
    "nodeFolderName = \"NodeGeojsonCittà/\"\n",
    "nodeFolderToCycle = os.listdir(nodeFolderName)\n",
    "\n",
    "createTextFile(wayFolderToCycle, \"wayLayers.txt\",False)\n",
    "createTextFile(nodeFolderToCycle,\"nodeLayers.txt\",True)"
   ]
  }
 ],
 "metadata": {
  "interpreter": {
   "hash": "916dbcbb3f70747c44a77c7bcd40155683ae19c65e1c03b4aa3499c5328201f1"
  },
  "kernelspec": {
   "display_name": "Python 3.8.10 64-bit",
   "name": "python3"
  },
  "language_info": {
   "name": "python",
   "version": ""
  },
  "orig_nbformat": 4
 },
 "nbformat": 4,
 "nbformat_minor": 2
}