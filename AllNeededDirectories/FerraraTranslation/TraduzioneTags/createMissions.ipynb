{
 "cells": [
  {
   "cell_type": "code",
   "execution_count": null,
   "metadata": {},
   "outputs": [],
   "source": [
    "import csv\n",
    "\n",
    "#Semplicemente stampo la lista delle colonne\n",
    "with open('FerraraFiles/ferrara_airbreak_int_edti_ciclabili_2021.csv') as csv_file:\n",
    "    csv_reader = csv.reader(csv_file, delimiter=',')\n",
    "    list_of_column_names = []\n",
    "    for row in csv_reader:\n",
    "        list_of_column_names.append(row)\n",
    "        break\n",
    "\n",
    "for i in list_of_column_names:\n",
    "    print(i)"
   ]
  },
  {
   "cell_type": "code",
   "execution_count": null,
   "metadata": {},
   "outputs": [],
   "source": [
    "#import osm2geojson\n",
    "import geopandas as gpd\n",
    "\n",
    "#Creo i dataframe riguardanti i dati di Ferrara, primaquello delle \"vie\", poi quello delle rastrelliere\n",
    "#All'interno del wfs inviatomi per mail ci sono i dati riguardanti le strade, però per ora faccio solo la traduzione dei tags\n",
    "\n",
    "dfWays = gpd.read_file(\"FerraraFiles/Ciclabili_2021.shp\")\n",
    "for col in dfWays.columns:\n",
    "    print(col)\n",
    "\n",
    "dfNodes = gpd.read_file(\"FerraraFiles/RastrelliereFerrara.shp\")\n",
    "for col in dfNodes.columns:\n",
    "    print(col)"
   ]
  },
  {
   "cell_type": "code",
   "execution_count": null,
   "metadata": {},
   "outputs": [],
   "source": [
    "dfWays.head()\n",
    "print(len(dfWays))"
   ]
  },
  {
   "cell_type": "code",
   "execution_count": null,
   "metadata": {},
   "outputs": [],
   "source": [
    "#Prendo gli elementi che hanno come risposta None nelle colonne segnaletic o livello\n",
    "#Quindi creerò le domande basate su quelle\n",
    "#Per cominciare faccio solo con queste 2 poi lo sviluppo di èiù\n",
    "import pandas as pd\n",
    "\n",
    "\n",
    "my_new_dfWaysSegnaletic = dfWays.loc[(dfWays['segnaletic'].isna())]\n",
    "my_new_dfWaysLivello = dfWays.loc[(dfWays['livello'].isna())]\n",
    "print(len(my_new_dfWaysLivello))\n",
    "print(len(my_new_dfWaysSegnaletic))\n",
    "\n",
    "my_new_dfWays = [my_new_dfWaysLivello,my_new_dfWaysSegnaletic]\n",
    "result = pd.concat(my_new_dfWays)\n",
    "print(len(result))\n",
    "result.head()"
   ]
  },
  {
   "cell_type": "code",
   "execution_count": null,
   "metadata": {},
   "outputs": [],
   "source": [
    "booleans = result.duplicated(keep=False)\n",
    "print(\"booleans series: \")\n",
    "print(booleans)\n",
    "print(\"\\n\")\n",
    "result = result[~booleans]"
   ]
  },
  {
   "cell_type": "code",
   "execution_count": null,
   "metadata": {},
   "outputs": [],
   "source": [
    "print(len(result))"
   ]
  },
  {
   "cell_type": "code",
   "execution_count": null,
   "metadata": {},
   "outputs": [],
   "source": [
    "#elimino tutte le colonne tranne geometry, id, gid, livello e segnaletic.\n",
    "result.drop(result.columns.difference(['gid','id','livello','segnaletic','geometry']), 1, inplace=True)\n",
    "result.head()"
   ]
  },
  {
   "cell_type": "code",
   "execution_count": null,
   "metadata": {},
   "outputs": [],
   "source": [
    "#Ora creo la lista di domande con tutto associato \n",
    "import yaml\n",
    "from yaml.loader import SafeLoader\n",
    "\n",
    "yamlFile=\"create_Ferrara_quest.yaml\"\n",
    "with open(yamlFile) as f:\n",
    "    data = yaml.load(f,Loader=SafeLoader)\n",
    "    sorted_data = yaml.dump(data, sort_keys=True)\n",
    "print(data)"
   ]
  },
  {
   "cell_type": "code",
   "execution_count": 157,
   "metadata": {},
   "outputs": [
    {
     "data": {
      "text/plain": [
       "'noGeomFileName = \"FerraraFiles/ForMissionCreation/csvMissionFiles/wayQuestsFerraraNoGeom.csv\"\\nfor i in question_list:\\n    i.pop()\\n\\nwith open(noGeomFileName, \"w\", newline = \\'\\')as file:\\n    writer = csv.writer(file,delimiter = \"|\")\\n    writer.writerows(question_list)\\n    file.close()'"
      ]
     },
     "execution_count": 157,
     "metadata": {},
     "output_type": "execute_result"
    }
   ],
   "source": [
    "#for index,row in result.iterrows():\n",
    "    #print(row['segnaletic'])\n",
    "    #print(row[\"livello\"])\n",
    "\n",
    "\n",
    "def createQuestion(keyNameDf, my_list, fileName,id,geometry):\n",
    "    with open(fileName) as f:\n",
    "        data = yaml.load(f, Loader = SafeLoader)\n",
    "        for keys,value in data[\"way-keys\"].items():\n",
    "            keyName = data['way-keys'][keys][\"name\"]\n",
    "            keyQuestion = data['way-keys'][keys][\"question\"]\n",
    "            keyScore = data['way-keys'][keys][\"score\"]\n",
    "            keyValidating = data['way-keys'][keys][\"validating\"]\n",
    "            keyAnswers = data['way-keys'][keys][\"answers\"]\n",
    "            keyType = \"WAY\" #FOR NOW\n",
    "            if(keyNameDf == keyName):\n",
    "                #print(\"funzica\")\n",
    "                value = [\"WAY\", keyQuestion, id,keyName,keyScore,keyValidating,keyAnswers,geometry]\n",
    "                my_list.append(value)\n",
    "                return my_list\n",
    "\n",
    "\n",
    "            \n",
    "\n",
    "question_list = [[\"NODE OR WAY\", \"QUESTION\", \"ID\", \"KEY\", \"SCORE\", \"VALIDATING\",\"ANSWERS\", \"shape\"]]\n",
    "for index,row in result.iterrows():\n",
    "    #print(row[0]) stampa il gid\n",
    "    #print(row[1]) stampa l'id\n",
    "    #print(row.index[0])\n",
    "    #print(row[index])\n",
    "    #print(index)\n",
    "    if(row['segnaletic']==None):\n",
    "        #Crea domanda sulla segnaletic (vedi file) yaml\n",
    "        question_list = createQuestion(\"segnaletic\", question_list,yamlFile,row['id'],row[\"geometry\"])\n",
    "    if(row['livello']==None):\n",
    "        #Crea domanda sul livello (vedi file yaml)\n",
    "        question_list = createQuestion(\"livello\", question_list,yamlFile,row['id'],row[\"geometry\"])\n",
    "    #print(\"STAMPATO LA ROW\")\n",
    "#Per questa prova oin questo momento sono tutte way\n",
    "\n",
    "#Ora creo il csv con dentro tutte le varie missioni\n",
    "csvFileName = \"FerraraFiles/ForMissionCreation/csvMissionFiles/wayQuestsFerrara.csv\"\n",
    "with open(csvFileName, \"w\", newline = '')as file:\n",
    "    writer = csv.writer(file,delimiter = \"|\")\n",
    "    writer.writerows(question_list)\n",
    "    file.close()\n",
    "#Creo il csv con le varie missioni ma sezna il campo geometria\n",
    "\"\"\"noGeomFileName = \"FerraraFiles/ForMissionCreation/csvMissionFiles/wayQuestsFerraraNoGeom.csv\"\n",
    "for i in question_list:\n",
    "    i.pop()\n",
    "\n",
    "with open(noGeomFileName, \"w\", newline = '')as file:\n",
    "    writer = csv.writer(file,delimiter = \"|\")\n",
    "    writer.writerows(question_list)\n",
    "    file.close()\"\"\""
   ]
  },
  {
   "cell_type": "code",
   "execution_count": 1,
   "metadata": {},
   "outputs": [
    {
     "ename": "NameError",
     "evalue": "name 'pd' is not defined",
     "output_type": "error",
     "traceback": [
      "\u001b[0;31m---------------------------------------------------------------------------\u001b[0m",
      "\u001b[0;31mNameError\u001b[0m                                 Traceback (most recent call last)",
      "\u001b[0;32m/tmp/ipykernel_7066/96733709.py\u001b[0m in \u001b[0;36m<module>\u001b[0;34m\u001b[0m\n\u001b[1;32m      3\u001b[0m \u001b[0;34m\u001b[0m\u001b[0m\n\u001b[1;32m      4\u001b[0m \u001b[0;31m#converto csv in dataframe e quindi geodataframe\u001b[0m\u001b[0;34m\u001b[0m\u001b[0;34m\u001b[0m\u001b[0;34m\u001b[0m\u001b[0m\n\u001b[0;32m----> 5\u001b[0;31m \u001b[0mcsv_df\u001b[0m \u001b[0;34m=\u001b[0m \u001b[0mpd\u001b[0m\u001b[0;34m.\u001b[0m\u001b[0mread_csv\u001b[0m\u001b[0;34m(\u001b[0m\u001b[0mcsvFileName\u001b[0m\u001b[0;34m,\u001b[0m\u001b[0mdelimiter\u001b[0m\u001b[0;34m=\u001b[0m\u001b[0;34m\"|\"\u001b[0m\u001b[0;34m)\u001b[0m\u001b[0;34m\u001b[0m\u001b[0;34m\u001b[0m\u001b[0m\n\u001b[0m\u001b[1;32m      6\u001b[0m \u001b[0mgeo_df\u001b[0m \u001b[0;34m=\u001b[0m \u001b[0mGeoDataFrame\u001b[0m\u001b[0;34m(\u001b[0m\u001b[0mcsv_df\u001b[0m\u001b[0;34m)\u001b[0m\u001b[0;34m\u001b[0m\u001b[0;34m\u001b[0m\u001b[0m\n\u001b[1;32m      7\u001b[0m \u001b[0mgeo_df\u001b[0m\u001b[0;34m.\u001b[0m\u001b[0mhead\u001b[0m\u001b[0;34m(\u001b[0m\u001b[0;34m)\u001b[0m\u001b[0;34m\u001b[0m\u001b[0;34m\u001b[0m\u001b[0m\n",
      "\u001b[0;31mNameError\u001b[0m: name 'pd' is not defined"
     ]
    }
   ],
   "source": [
    "import geopandas\n",
    "from geopandas import GeoDataFrame\n",
    "\n",
    "#converto csv in dataframe e quindi geodataframe\n",
    "csv_df = pd.read_csv(csvFileName,delimiter=\"|\")\n",
    "geo_df = GeoDataFrame(csv_df)\n",
    "geo_df.head()"
   ]
  },
  {
   "cell_type": "code",
   "execution_count": null,
   "metadata": {},
   "outputs": [],
   "source": [
    "geo_df.set_geometry('shape', inplace=True)"
   ]
  },
  {
   "cell_type": "code",
   "execution_count": null,
   "metadata": {},
   "outputs": [],
   "source": [
    "from shapely import wkt\n",
    "shapefile = geo_df\n",
    "shapefile['shape'] = shapefile['shape'].apply(wkt.loads)\n",
    "shapefile = geopandas.GeoDataFrame(shapefile, geometry='shape')\n",
    "shapefile.to_file('FerraraFiles/shapeFiles/MyGeometries.shp', driver='ESRI Shapefile')\n",
    "#gdf = geopandas.GeoDataFrame.from_file('FerraraFiles/shapeFiles/MyGeometries.shp')\n",
    "#gdf= gdf.astype({\"id\": str}, errors='raise') \n",
    "#file = \"/MyGeometries.shp\""
   ]
  },
  {
   "cell_type": "code",
   "execution_count": null,
   "metadata": {},
   "outputs": [],
   "source": [
    "#Ora elimino la colonna geometry per avere già gli elementi da inserire nel db.\n",
    "#Anche perchè la conversione delle risposte datedagli user la si farà a fine mapathon\n",
    "import os\n",
    "import sqlite3\n",
    "\n",
    "DB_PATH = os.path.join(os.getcwd(), 'FerraraFiles/database/ferraraTry.db')"
   ]
  },
  {
   "cell_type": "code",
   "execution_count": null,
   "metadata": {},
   "outputs": [],
   "source": [
    "import pandas as pd\n",
    "\n",
    "my_data = pd.read_csv('FerraraFiles/ForMissionCreation/csvMissionFiles/wayQuestsFerrara.csv', index_col=False, delimiter=\"|\")\n",
    "my_data = my_data.rename(columns={'NODE OR WAY':'TYPE'})#########\n",
    "geo_df = geo_df.rename(columns={\"NODE OR WAY\":\"TYPE\"})\n",
    "my_data.drop(my_data.columns.difference(['TYPE','QUESTION','ID','SCORE','VALIDATING','ANSWERS','KEY']), 1, inplace=True)\n",
    "my_data[\"ANSWER\"] = \"\"\n",
    "my_data[\"USERANSWERED\"] = \"\"\n",
    "my_data[\"NUMBEROFVALIDATIONS\"] = 0\n",
    "my_data[\"USERSWHOVALIDATED\"] = \"\"\n",
    "print(my_data.head())\n",
    "\n",
    "with sqlite3.connect(DB_PATH) as conn: \n",
    "    df_sql = my_data.to_sql('question_table', conn, if_exists='replace', index = False)"
   ]
  },
  {
   "cell_type": "code",
   "execution_count": null,
   "metadata": {},
   "outputs": [],
   "source": [
    "completed_data = my_data\n",
    "completed_data.drop(completed_data.columns.difference([\"ID\",\"TYPE\"]),1,inplace=True)\n",
    "completed_data[\"completed\"] = \"no\"\n",
    "completed_data[\"TYPE\"] = \"way\"\n",
    "completed_data = completed_data.rename(columns = {'TYPE':'type', 'ID':'id'})\n",
    "print(completed_data.head())\n",
    "with sqlite3.connect(DB_PATH) as conn:\n",
    "    df_completed = completed_data.to_sql('completed_table',conn,if_exists=\"replace\", index = False)"
   ]
  },
  {
   "cell_type": "code",
   "execution_count": null,
   "metadata": {},
   "outputs": [],
   "source": [
    "with sqlite3.connect(DB_PATH) as conn:\n",
    "    conn.enable_load_extension(True)\n",
    "    conn.load_extension(\"mod_spatialite\")\n",
    "    conn.commit()\n",
    "\n",
    "#IMPORTANTEEEEEEEEEEEEEEEEE\n",
    "with sqlite3.connect(DB_PATH) as conn:\n",
    "    conn.enable_load_extension(True)\n",
    "    conn.load_extension(\"mod_spatialite\")\n",
    "    conn.execute(\"SELECT InitSpatialMetaData(1);\")\n",
    "\n",
    "\n",
    "with sqlite3.connect(DB_PATH) as conn:\n",
    "    conn.enable_load_extension(True)\n",
    "    conn.load_extension(\"mod_spatialite\")\n",
    "    cur = conn.execute(\n",
    "        \"\"\"SELECT * FROM 'question_table' WHERE ID IS 1022 AND TYPE IS 'WAY' AND NUMBEROFVALIDATIONS IS NOT 5\"\"\"\n",
    "    )\n",
    "    resultQuery = cur.fetchall()\n",
    "print(resultQuery)\n",
    "\n",
    "#with sqlite3.connect(DB_PATH) as conn:\n",
    "#    conn.enable_load_extension(True)\n",
    "#    conn.load_extension(\"mod_spatialite\")\n",
    "#    cur = conn.execute(\n",
    "#        \"\"\"UPDATE completed_table SET completed = \"yes\" WHERE ID = \"884\" AND TYPE = 'way'\"\"\"\n",
    "#    )\n",
    "#    resultQuery = cur.fetchall()\n",
    "\n",
    "#print(resultQuery)\n",
    "    \n",
    "with sqlite3.connect(DB_PATH) as conn:\n",
    "    conn.enable_load_extension(True)\n",
    "    conn.load_extension(\"mod_spatialite\")\n",
    "    cur = conn.execute(\n",
    "        \"\"\"SELECT * FROM 'completed_table' WHERE completed IS 'yes'\"\"\"\n",
    "    )\n",
    "    resultQuery = cur.fetchall()\n",
    "\n",
    "print(resultQuery)\n",
    "conn.close()"
   ]
  },
  {
   "cell_type": "code",
   "execution_count": null,
   "metadata": {},
   "outputs": [],
   "source": [
    "#Creo tabella per vedere se id ha già tutte le rispooste o meno\n",
    "geo_df.drop(geo_df.columns.difference(['ID','TYPE']), 1, inplace=True)\n",
    "print(geo_df.head())\n",
    "completed_data = geo_df\n",
    "completed_data[\"completed\"] = \"no\"\n",
    "\n",
    "#print(completed_data.head())\n",
    "completed_data = gpd.GeoDataFrame(completed_data)\n",
    "\n",
    "print(len(completed_data))\n",
    "print(completed_data.head())\n",
    "\n",
    "#with sqlite3.connect(DB_PATH) as conn:\n",
    "#    df_completed = completed_data.to_sql('completed_table',conn,if_exists=\"replace\", index = False)"
   ]
  },
  {
   "cell_type": "code",
   "execution_count": null,
   "metadata": {},
   "outputs": [],
   "source": [
    "import json\n",
    "xmlString = result.to_xml()\n",
    "#print(xmlString)\n",
    "with open(\"FerraraFiles/xmlFiles/provaXml.xml\",\"w\") as f:\n",
    "    f.write(xmlString)\n",
    "\n",
    "print(len(result))\n",
    "\n",
    "jsonFile = result.to_json()\n",
    "with open('map.geojson','w', encoding='utf-8') as f:\n",
    "    f.write(jsonFile)\n",
    "    #json.dump(jsonFile,f)\n",
    "\n",
    "with open('provaformat.json', 'wt') as out:\n",
    "    res = json.dump(jsonFile, out, sort_keys=True, indent=4, separators=(',', ': '))"
   ]
  }
 ],
 "metadata": {
  "interpreter": {
   "hash": "916dbcbb3f70747c44a77c7bcd40155683ae19c65e1c03b4aa3499c5328201f1"
  },
  "kernelspec": {
   "display_name": "Python 3.8.10 64-bit",
   "name": "python3"
  },
  "language_info": {
   "codemirror_mode": {
    "name": "ipython",
    "version": 3
   },
   "file_extension": ".py",
   "mimetype": "text/x-python",
   "name": "python",
   "nbconvert_exporter": "python",
   "pygments_lexer": "ipython3",
   "version": "3.8.10"
  },
  "orig_nbformat": 4
 },
 "nbformat": 4,
 "nbformat_minor": 2
}