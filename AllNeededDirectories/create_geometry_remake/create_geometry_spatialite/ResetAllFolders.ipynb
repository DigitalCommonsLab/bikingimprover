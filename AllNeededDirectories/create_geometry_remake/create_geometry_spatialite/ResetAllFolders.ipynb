{
 "cells": [
  {
   "cell_type": "code",
   "execution_count": null,
   "metadata": {},
   "outputs": [],
   "source": [
    "#Code that removes all the data inside the folders.\n",
    "import shutil\n",
    "import os\n",
    "\n",
    "def resetAll(folderName):\n",
    "    folder = os.listdir(folderName)\n",
    "    for i in folder:\n",
    "        print(i)\n",
    "        try:\n",
    "            if(i != \".gitkeep\"):\n",
    "                os.remove(folderName + \"/\" + i) #shutil.rmtree(folderName +\"/\"+ i)\n",
    "        except OSError as error:\n",
    "            shutil.rmtree(folderName + \"/\" + i)\n",
    "\n",
    "            \n",
    "def resetAllPbf(folderName):\n",
    "    folder = os.listdir(folderName)\n",
    "    for i in folder:\n",
    "        print(i)\n",
    "        try:\n",
    "            os.remove(folderName + \"/\" + i) #shutil.rmtree(folderName +\"/\"+ i)\n",
    "        except OSError as error:\n",
    "            shutil.rmtree(folderName + \"/\" + i)\n",
    "    os.rmdir(folderName)\n",
    "\n",
    "allQuestionsFolder = \"tmp/allQuestions\"\n",
    "centerWayPointsFolder = \"tmp/GeojsonFiles/centerWayPoints\"\n",
    "overpassFolder = \"tmp/GeojsonFiles/Overpass\"\n",
    "singleNodesFolder = \"tmp/GeojsonFiles/singleNodesFiles\"\n",
    "singleWaysFolder = \"tmp/GeojsonFiles/singleWaysFiles\"\n",
    "nodesQuestionFolder = \"tmp/nodes_question\"\n",
    "waysQuestionFolder = \"tmp/ways_question\"\n",
    "xmlFilesFolder = \"tmp/XmlFiles\"\n",
    "\n",
    "resetAll(allQuestionsFolder)\n",
    "resetAll(centerWayPointsFolder)\n",
    "resetAll(overpassFolder)\n",
    "resetAll(singleNodesFolder)\n",
    "resetAll(singleWaysFolder)\n",
    "resetAll(nodesQuestionFolder)\n",
    "resetAll(waysQuestionFolder)\n",
    "resetAll(xmlFilesFolder)\n",
    "\n",
    "#resetAll(\"withValidation.db\")"
   ]
  }
 ],
 "metadata": {
  "interpreter": {
   "hash": "916dbcbb3f70747c44a77c7bcd40155683ae19c65e1c03b4aa3499c5328201f1"
  },
  "kernelspec": {
   "display_name": "Python 3.8.10 64-bit",
   "name": "python3"
  },
  "language_info": {
   "codemirror_mode": {
    "name": "ipython",
    "version": 3
   },
   "file_extension": ".py",
   "mimetype": "text/x-python",
   "name": "python",
   "nbconvert_exporter": "python",
   "pygments_lexer": "ipython3",
   "version": "3.8.10"
  },
  "orig_nbformat": 4
 },
 "nbformat": 4,
 "nbformat_minor": 2
}