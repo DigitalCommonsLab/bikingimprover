{
 "cells": [
  {
   "cell_type": "code",
   "execution_count": 1,
   "metadata": {},
   "outputs": [],
   "source": [
    "#Codice per aggiungere la tabella delle medaglie a un database già esistente\n",
    "#Medaglie le salvo in un file csv, i parametri son separati da una ,\n",
    "import pandas as pd\n",
    "\n",
    "#mi creo un dataframe partendo dal csv contenente la descrizione delle medaglie\n",
    "data_df_medals = pd.read_csv(\"allMedals.csv\")\n",
    "\n",
    "#Creo tabella nel db esistente con i dati delle medaglie\n",
    "import os\n",
    "import sqlite3\n",
    "DB_PATH = os.path.join(os.getcwd(), 'applicationValid.db')\n",
    "\n",
    "with sqlite3.connect(DB_PATH) as conn: \n",
    "    df_medals = data_df_medals.to_sql('medals_table', conn, if_exists='replace', index = False)"
   ]
  },
  {
   "cell_type": "code",
   "execution_count": null,
   "metadata": {},
   "outputs": [],
   "source": [
    "#Creo tabelle dei power up e dei pin\n",
    "\n",
    "power_data = pd.read_csv(\"powerUps.csv\")\n",
    "pin_data = pd.read_csv(\"pin.csv\")\n",
    "\n",
    "with sqlite3.connect(DB_PATH) as conn: \n",
    "    df_powerUps = power_data.to_sql('powerUps_table', conn, if_exists='replace', index = False)\n",
    "\n",
    "with sqlite3.connect(DB_PATH) as conn: \n",
    "    df_pins = pin_data.to_sql('pins_table', conn, if_exists='replace', index = False)"
   ]
  }
 ],
 "metadata": {
  "interpreter": {
   "hash": "916dbcbb3f70747c44a77c7bcd40155683ae19c65e1c03b4aa3499c5328201f1"
  },
  "kernelspec": {
   "display_name": "Python 3.8.10 64-bit",
   "name": "python3"
  },
  "language_info": {
   "name": "python",
   "version": ""
  },
  "orig_nbformat": 4
 },
 "nbformat": 4,
 "nbformat_minor": 2
}